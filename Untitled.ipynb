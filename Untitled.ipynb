{
 "cells": [
  {
   "cell_type": "code",
   "execution_count": 7,
   "metadata": {},
   "outputs": [],
   "source": [
    "# useful imports\n",
    "import pandas as pd\n",
    "import chart_studio.plotly as py  # plotly.plotly\n",
    "import plotly.offline as po\n",
    "import numpy as np\n",
    "import plotly.graph_objs as pg\n",
    "import cufflinks as cf"
   ]
  },
  {
   "cell_type": "code",
   "execution_count": 8,
   "metadata": {},
   "outputs": [
    {
     "data": {
      "text/html": [
       "        <script type=\"text/javascript\">\n",
       "        window.PlotlyConfig = {MathJaxConfig: 'local'};\n",
       "        if (window.MathJax) {MathJax.Hub.Config({SVG: {font: \"STIX-Web\"}});}\n",
       "        if (typeof require !== 'undefined') {\n",
       "        require.undef(\"plotly\");\n",
       "        requirejs.config({\n",
       "            paths: {\n",
       "                'plotly': ['https://cdn.plot.ly/plotly-latest.min']\n",
       "            }\n",
       "        });\n",
       "        require(['plotly'], function(Plotly) {\n",
       "            window._Plotly = Plotly;\n",
       "        });\n",
       "        }\n",
       "        </script>\n",
       "        "
      ]
     },
     "metadata": {},
     "output_type": "display_data"
    },
    {
     "data": {
      "text/html": [
       "        <script type=\"text/javascript\">\n",
       "        window.PlotlyConfig = {MathJaxConfig: 'local'};\n",
       "        if (window.MathJax) {MathJax.Hub.Config({SVG: {font: \"STIX-Web\"}});}\n",
       "        if (typeof require !== 'undefined') {\n",
       "        require.undef(\"plotly\");\n",
       "        requirejs.config({\n",
       "            paths: {\n",
       "                'plotly': ['https://cdn.plot.ly/plotly-latest.min']\n",
       "            }\n",
       "        });\n",
       "        require(['plotly'], function(Plotly) {\n",
       "            window._Plotly = Plotly;\n",
       "        });\n",
       "        }\n",
       "        </script>\n",
       "        "
      ]
     },
     "metadata": {},
     "output_type": "display_data"
    }
   ],
   "source": [
    "po.init_notebook_mode(connected = True) # ofline availability\n",
    "cf.go_offline() # making offline"
   ]
  },
  {
   "cell_type": "code",
   "execution_count": null,
   "metadata": {},
   "outputs": [],
   "source": [
    "def createdata(data):\n",
    "    if (data == 1):\n",
    "        x = np.random.rand(100,5)\n",
    "        df1 = pd.DataFrame(x,columns = ['A', 'B', 'C', 'D', 'E'])\n",
    "    elif (data == 2):\n",
    "        x = [0,0,0,0,0]\n",
    "        x1 = [0,0,0,0,0]\n",
    "        x2 = [0,0,0,0,0]\n",
    "        x3 = [0,0,0,0,0]\n",
    "        x4 = [0,0,0,0,0]\n",
    "        print(\"Enter the values for columns\")\n",
    "        i = 0\n",
    "        for i in [0,1,2,3,4]:\n",
    "            x(i) = input()\n",
    "            i = i + 1"
   ]
  },
  {
   "cell_type": "code",
   "execution_count": null,
   "metadata": {},
   "outputs": [],
   "source": []
  },
  {
   "cell_type": "code",
   "execution_count": null,
   "metadata": {},
   "outputs": [
    {
     "name": "stdout",
     "output_type": "stream",
     "text": [
      "Select type of data you are going to plot (from 1,2,3)\n",
      "1. Random data with 100 rows and 5 columns\n",
      "2. Customize Dataframe with 5 columns and 4 rows\n",
      "3. Upload CSV/JSON/txt\n"
     ]
    }
   ],
   "source": [
    "print(\"Select type of data you are going to plot (from 1,2,3)\")\n",
    "print(\"1. Random data with 100 rows and 5 columns\")\n",
    "print(\"2. Customize Dataframe with 5 columns and 4 rows\")\n",
    "print(\"3. Upload CSV/JSON/txt\")\n",
    "data = int(input())\n",
    "df1  = createdata(data)"
   ]
  }
 ],
 "metadata": {
  "kernelspec": {
   "display_name": "Python 3",
   "language": "python",
   "name": "python3"
  },
  "language_info": {
   "codemirror_mode": {
    "name": "ipython",
    "version": 3
   },
   "file_extension": ".py",
   "mimetype": "text/x-python",
   "name": "python",
   "nbconvert_exporter": "python",
   "pygments_lexer": "ipython3",
   "version": "3.7.6"
  }
 },
 "nbformat": 4,
 "nbformat_minor": 4
}
